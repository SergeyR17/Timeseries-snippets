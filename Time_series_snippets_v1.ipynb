{
 "cells": [
  {
   "cell_type": "code",
   "execution_count": null,
   "metadata": {},
   "outputs": [],
   "source": [
    "import numpy as np\n",
    "import pandas as pd\n",
    "\n",
    "import seaborn as sns\n",
    "import matplotlib.pyplot as plt\n",
    "\n",
    "# for visualisation "
   ]
  },
  {
   "cell_type": "code",
   "execution_count": null,
   "metadata": {},
   "outputs": [],
   "source": [
    "# Load the data there"
   ]
  },
  {
   "cell_type": "code",
   "execution_count": null,
   "metadata": {},
   "outputs": [],
   "source": [
    "# This func converts both 3d and 2d np arrays (chunc_axis,time_channel,_axis) and (chunc_axis, class_axis), to the DF with multilevel index\n",
    "def create_multidim_timeseries_df(array_X, array_y):\n",
    "    names = ['chunk', 'time', 'sensor']\n",
    "    index = pd.MultiIndex.from_product([range(s)for s in array_X.shape], names=names)\n",
    "    X_df = pd.DataFrame({'Train': array_X.flatten()}, index=index)['Train']\n",
    "    y_df = pd.DataFrame(data = np.argmax(array_y, axis=1), columns=['class'])\n",
    "    y_df.index.name = 'chunk'\n",
    "    df = pd.merge(X_df, y_df, right_index=True, left_on=['chunk'])  \n",
    "    df = pd.pivot_table(df.reset_index(), values='Train', index=['class','chunk', 'time'], columns=['sensor']) # relativly slow row\n",
    "    df = df.sort_index(level=1) # set level\n",
    "    return df\n",
    "\n",
    "train = create_multidim_timeseries_df(X_train_raw, y_train_raw)\n",
    "test = create_multidim_timeseries_df(X_test_raw, y_test_raw)"
   ]
  },
  {
   "cell_type": "code",
   "execution_count": null,
   "metadata": {},
   "outputs": [],
   "source": [
    "# let's build the diagram of the distribution of measurements by the class\n",
    "# observe the relative balance of the classes \n",
    "temp_df = train.reset_index()\n",
    "class_counts = temp_df['class'].value_counts()\n",
    "\n",
    "sns.barplot(x=temp_df['class'].value_counts().index, y=temp_df['class'].value_counts()/ X_train.shape[1])\n",
    "plt.title(f\"Class distribution\")"
   ]
  },
  {
   "cell_type": "code",
   "execution_count": null,
   "metadata": {},
   "outputs": [],
   "source": [
    "# visualize the distribution density depending on the classes within each sensor channel.\n",
    "\n",
    "train[0].reset_index().drop(columns=['time','chunk'])\n",
    "\n",
    "temp_df = train.reset_index().drop(columns=['time','chunk']) \n",
    "for sensor_ch, col in enumerate(temp_df.columns[1:]):\n",
    "    plt.figure(sensor_ch)\n",
    "    sns.kdeplot(data= temp_df, x= sensor_ch, hue='class',  palette='bright')\n",
    "    plt.title(f\"Channel {sensor_ch}\")"
   ]
  },
  {
   "cell_type": "code",
   "execution_count": null,
   "metadata": {},
   "outputs": [],
   "source": [
    "# let's build plots with timeseries different classes  with confedence interval (chunks projection)\n",
    "temp_df2 = train.reset_index()\n",
    "for class_id in range(len(temp_df2['class'].unique())):  \n",
    "    temp_df3 = temp_df2[temp_df2['class'] == class_id].drop(columns=['class','chunk'])\n",
    "    print(temp_df3.columns[1:])\n",
    "    temp_df3 = pd.melt(temp_df3, id_vars=['time'], value_vars=temp_df3.columns[1:])\n",
    "    plt.figure(class_id)\n",
    "    sns.lineplot(x=\"time\", y=\"value\", hue=\"sensor\", data=temp_df3,  palette='bright')\n",
    "    plt.title(f\"Class {class_id}\")"
   ]
  },
  {
   "cell_type": "code",
   "execution_count": null,
   "metadata": {},
   "outputs": [],
   "source": []
  }
 ],
 "metadata": {
  "language_info": {
   "name": "python"
  },
  "orig_nbformat": 4
 },
 "nbformat": 4,
 "nbformat_minor": 2
}
